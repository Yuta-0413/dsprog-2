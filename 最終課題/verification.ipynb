{
 "cells": [
  {
   "cell_type": "markdown",
   "metadata": {},
   "source": [
    "##検証"
   ]
  },
  {
   "cell_type": "markdown",
   "metadata": {},
   "source": [
    "運行情報、天気情報取得に使用するコード"
   ]
  },
  {
   "cell_type": "code",
   "execution_count": null,
   "metadata": {
    "vscode": {
     "languageId": "plaintext"
    }
   },
   "outputs": [],
   "source": [
    "import requests\n",
    "from bs4 import BeautifulSoup\n",
    "from datetime import datetime\n",
    "import sqlite3\n",
    "import time\n",
    "\n",
    "DB_NAME = \"最終課題/transport_weather.db\"\n",
    "\n",
    "def create_table():\n",
    "    with sqlite3.connect(DB_NAME) as conn:\n",
    "        cursor = conn.cursor()\n",
    "        cursor.execute('''\n",
    "            CREATE TABLE IF NOT EXISTS transport_weather (\n",
    "                id INTEGER PRIMARY KEY AUTOINCREMENT,\n",
    "                date TEXT,\n",
    "                fetch_time TEXT,\n",
    "                weather TEXT,\n",
    "                delay_status TEXT\n",
    "            )\n",
    "        ''')\n",
    "        conn.commit()\n",
    "\n",
    "def insert_data(date, fetch_time, weather, delay_status):\n",
    "    with sqlite3.connect(DB_NAME) as conn:\n",
    "        cursor = conn.cursor()\n",
    "        cursor.execute('''\n",
    "            INSERT INTO transport_weather (date, fetch_time, weather, delay_status)\n",
    "            VALUES (?, ?, ?, ?)\n",
    "        ''', (date, fetch_time, weather, delay_status))\n",
    "        conn.commit()\n",
    "\n",
    "def get_monorail_status():\n",
    "    TamaMono_URL = 'https://transit.yahoo.co.jp/diainfo/156/0'\n",
    "    try:\n",
    "        TamaMono_Requests = requests.get(TamaMono_URL)\n",
    "        TamaMono_Soup = BeautifulSoup(TamaMono_Requests.text, 'html.parser')\n",
    "        time.sleep(1)\n",
    "        if TamaMono_Soup.find('dd', class_='trouble'):\n",
    "            return '多摩都市モノレールは遅延しています'\n",
    "        else:\n",
    "            return '多摩都市モノレールは通常運転です'\n",
    "    except Exception as e:\n",
    "        return f\"運行状況取得エラー: {e}\"\n",
    "\n",
    "def get_weather():\n",
    "    area_id = \"130000\"\n",
    "    forecast_url = f\"https://www.jma.go.jp/bosai/forecast/data/forecast/{area_id}.json\"\n",
    "    try:\n",
    "        response = requests.get(forecast_url)\n",
    "        response.raise_for_status()\n",
    "        forecast_data = response.json()\n",
    "        today_date = datetime.now().strftime(\"%Y-%m-%d\")\n",
    "        for area in forecast_data:\n",
    "            if \"timeSeries\" in area:\n",
    "                time_series = area[\"timeSeries\"]\n",
    "                for series in time_series:\n",
    "                    if \"areas\" in series:\n",
    "                        for region in series[\"areas\"]:\n",
    "                            if region[\"area\"][\"code\"] == \"130010\":\n",
    "                                times = series[\"timeDefines\"]\n",
    "                                weathers = region[\"weathers\"]\n",
    "                                for i, time in enumerate(times):\n",
    "                                    if today_date in time:\n",
    "                                        return weathers[i]\n",
    "    except Exception as e:\n",
    "        return f\"天気情報取得エラー: {e}\"\n",
    "\n",
    "def fetch_and_store_data():\n",
    "    now = datetime.now()\n",
    "    fetch_time = now.strftime(\"%H:%M:%S\")\n",
    "    today_date = now.strftime(\"%Y-%m-%d\")\n",
    "\n",
    "    weather = get_weather()\n",
    "    delay_status = get_monorail_status()\n",
    "\n",
    "    insert_data(today_date, fetch_time, weather, delay_status)\n",
    "    print(\"データをDBに保存しました:\")\n",
    "    print(f\"日付: {today_date}, 時刻: {fetch_time}, 天気: {weather}, 遅延: {delay_status}\")\n",
    "\n",
    "def display_db_data():\n",
    "    with sqlite3.connect(DB_NAME) as conn:\n",
    "        cursor = conn.cursor()\n",
    "        cursor.execute(\"SELECT * FROM transport_weather\")\n",
    "        rows = cursor.fetchall()\n",
    "        print(\"DB内のデータ:\")\n",
    "        for row in rows:\n",
    "            print(row)\n",
    "\n",
    "if __name__ == \"__main__\":\n",
    "    create_table()\n",
    "    fetch_and_store_data()\n",
    "    display_db_data()"
   ]
  },
  {
   "cell_type": "markdown",
   "metadata": {},
   "source": []
  }
 ],
 "metadata": {
  "language_info": {
   "name": "python"
  }
 },
 "nbformat": 4,
 "nbformat_minor": 2
}
